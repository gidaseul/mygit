{
 "cells": [
  {
   "cell_type": "markdown",
   "metadata": {},
   "source": [
    "# 파이썬 리뷰"
   ]
  },
  {
   "cell_type": "markdown",
   "metadata": {},
   "source": [
    "## 파일 읽기 "
   ]
  },
  {
   "cell_type": "code",
   "execution_count": 158,
   "metadata": {},
   "outputs": [],
   "source": [
    "# -*- coding: urf-8 -*-\n",
    "\n",
    "fd=open(\"studentlist.txt\")\n"
   ]
  },
  {
   "cell_type": "code",
   "execution_count": 159,
   "metadata": {},
   "outputs": [
    {
     "name": "stdout",
     "output_type": "stream",
     "text": [
      "line# :  17\n"
     ]
    }
   ],
   "source": [
    "fd.readline() # 헤딩 \n",
    "\n",
    "lines= fd.readlines()\n",
    "\n",
    "print (\"line# : \", len(lines))"
   ]
  },
  {
   "cell_type": "markdown",
   "metadata": {},
   "source": [
    "## 필드 분할, type 가공"
   ]
  },
  {
   "cell_type": "code",
   "execution_count": 160,
   "metadata": {},
   "outputs": [
    {
     "name": "stdout",
     "output_type": "stream",
     "text": [
      "[['이미린', '여자', 22, '2', '무', 'AB', 170.1, 53.0, '03'], ['홍길동', '남자', 24, '4', '무', 'B', 175.0, 80.1, '01']]\n"
     ]
    }
   ],
   "source": [
    "Table=[] # 전체 레코드를 담은 테이블 \n",
    "\n",
    "for line in lines :  # 한 줄 씩  line 변수에 담아서\n",
    "    \n",
    "    fields= line.split(\",\") # , 를 기준으로 나눈다. -> fields라는 list가 만들어진다.\n",
    "    # name,sex,age,grade,absence,bloodtype,height,weight,dept\n",
    "    #  0    1   2    3    4        5         6     7      8\n",
    "\n",
    "    fields[2]= int(fields[2])  # 나이를 숫자로 바꿔 넣기\n",
    "\n",
    "    fields[6]= float(fields[6])  # 키를 숫자로 바꿔 넣기\n",
    "    fields[7] = float(fields[7]) # 몸무게도 \n",
    "    fields[8]= fields[8].strip()\n",
    "          \n",
    "    Table.append(fields)  #레코드를 테이블에 추가 \n",
    "\n",
    "print (Table[1:3])"
   ]
  },
  {
   "cell_type": "markdown",
   "metadata": {},
   "source": [
    "## 정렬"
   ]
  },
  {
   "cell_type": "code",
   "execution_count": 161,
   "metadata": {},
   "outputs": [
    {
     "name": "stdout",
     "output_type": "stream",
     "text": [
      "손세수 여자 20\n",
      "박미희 여자 21\n",
      "김민수 남자 21\n",
      "여수근 남자 21\n",
      "이미린 여자 22\n",
      "강수친 여자 22\n",
      "방희철 남자 22\n",
      "임동민 남자 22\n",
      "김미진 여자 22\n",
      "김길동 남자 23\n",
      "김철수 남자 23\n",
      "이희수 여자 23\n",
      "이철린 남자 23\n",
      "이희진 여자 23\n",
      "홍길동 남자 24\n",
      "박수호 남자 24\n",
      "김동수 남자 24\n"
     ]
    }
   ],
   "source": [
    "Table= sorted(Table, key = lambda col : col[2] ) # 나이로 정렬\n",
    "for record in Table :\n",
    "    print ( record[0], record[1], record[2])"
   ]
  },
  {
   "cell_type": "markdown",
   "metadata": {},
   "source": [
    "## 기술 통계 : 평균 구하기, 키 평균"
   ]
  },
  {
   "cell_type": "code",
   "execution_count": 162,
   "metadata": {},
   "outputs": [
    {
     "name": "stdout",
     "output_type": "stream",
     "text": [
      "170.03529411764706\n"
     ]
    }
   ],
   "source": [
    "heightSum=0\n",
    "for rec in Table :\n",
    "    height= rec[6]\n",
    "    heightSum+=height\n",
    "\n",
    "print (heightSum / len(Table))"
   ]
  },
  {
   "cell_type": "markdown",
   "metadata": {},
   "source": [
    "## 기술통계 :  도수 구하기 \n",
    "\n",
    "### 학과 별 학생 수 "
   ]
  },
  {
   "cell_type": "code",
   "execution_count": 163,
   "metadata": {},
   "outputs": [
    {
     "name": "stdout",
     "output_type": "stream",
     "text": [
      "{'01': 6, '03': 6, '02': 5}\n"
     ]
    }
   ],
   "source": [
    "dept_dic= {}  # {학과 코드: 도수}\n",
    "for rec in Table :\n",
    "    dept_code=rec[8]\n",
    "    if dept_code in dept_dic:\n",
    "        dept_dic[dept_code]+=1\n",
    "    else :\n",
    "        dept_dic[dept_code]=1\n",
    "\n",
    "print (dept_dic)"
   ]
  },
  {
   "cell_type": "markdown",
   "metadata": {},
   "source": [
    "## Join \n",
    "### 학과 코드 파일 읽어서 도수 결과에 표기"
   ]
  },
  {
   "cell_type": "code",
   "execution_count": 164,
   "metadata": {},
   "outputs": [
    {
     "name": "stdout",
     "output_type": "stream",
     "text": [
      "{'01': '소프트웨어'}\n",
      "{'01': '소프트웨어', '02': 'AI융합'}\n",
      "{'01': '소프트웨어', '02': 'AI융합', '03': '통계보험'}\n",
      "01 소프트웨어\n",
      "02 AI융합\n",
      "03 통계보험\n",
      "소프트웨어 6\n",
      "통계보험 6\n",
      "AI융합 5\n"
     ]
    }
   ],
   "source": [
    "deptcode={}  # {학과 코드 : 실제 명칭}\n",
    "\n",
    "f=open(\"deptcode.txt\") \n",
    "for line in f:\n",
    "    code, name=line.split(\",\")\n",
    "    deptcode[code]=name.strip()\n",
    "    print (deptcode)\n",
    "\n",
    "for key, value in deptcode.items():\n",
    "    print (key, value)\n",
    "\n",
    "for key, value in dept_dic.items():\n",
    "    print (deptcode[key], value) "
   ]
  },
  {
   "cell_type": "markdown",
   "metadata": {},
   "source": [
    "## group by :  혈액형 별 키 평균\n",
    "\n",
    "### 혈액형 별 키 합계, 도수 집계  "
   ]
  },
  {
   "cell_type": "code",
   "execution_count": 165,
   "metadata": {},
   "outputs": [
    {
     "name": "stdout",
     "output_type": "stream",
     "text": [
      "{'A': [676.3, 4], 'O': [825.7, 5], 'AB': [532.2, 3], 'B': [856.4, 5]}\n"
     ]
    }
   ],
   "source": [
    "b_table={}  # 집계 테이블 : { 혈액형 : [합계, 도수] }\n",
    "for rec in Table :\n",
    "    bloodtype=rec[5]\n",
    "    if bloodtype in b_table:  # 진료과목이 있는지\n",
    "        b_table[bloodtype]= [ b_table[bloodtype][0]+rec[6], b_table[bloodtype][1]+ 1]  # 키 합계, 갯수 \n",
    "    else:\n",
    "        b_table[bloodtype]= [rec[6], 1]  # 키 , 갯수 \n",
    "\n",
    "print ( b_table)"
   ]
  },
  {
   "cell_type": "code",
   "execution_count": 166,
   "metadata": {},
   "outputs": [
    {
     "name": "stdout",
     "output_type": "stream",
     "text": [
      "A 169.075\n",
      "O 165.14000000000001\n",
      "AB 177.4\n",
      "B 171.28\n"
     ]
    }
   ],
   "source": [
    "for key, value in b_table.items():\n",
    "    print ( key , value[0]/value[1] )"
   ]
  },
  {
   "cell_type": "markdown",
   "metadata": {},
   "source": [
    "## *과제 1 : 성별, 혈액형 별 몸무게의 평균\n",
    "\n",
    "결과예시)\n",
    "\n",
    "남자, A, 얼마\n",
    "\n",
    "남자, B, 얼마\n",
    "\n",
    "### 제출방법 \n",
    "\n",
    "본 파일 제출 (기존 내용 그대로 포함)"
   ]
  },
  {
   "cell_type": "code",
   "execution_count": 167,
   "metadata": {},
   "outputs": [
    {
     "name": "stdout",
     "output_type": "stream",
     "text": [
      "{('여자', 'A'): [104.5, 2], ('여자', 'O'): [150.4, 3], ('남자', 'A'): [117.5, 2], ('여자', 'AB'): [53.0, 1], ('남자', 'B'): [275.8, 4], ('남자', 'AB'): [161.5, 2], ('여자', 'B'): [45.2, 1], ('남자', 'O'): [130.2, 2]}\n"
     ]
    }
   ],
   "source": [
    "sb_table={} #집계 테이블 : {성별,혈액형: [몸무게]}\n",
    "for rec in Table:\n",
    "    sexBlood=rec[1],rec[5]\n",
    "    if sexBlood in sb_table:\n",
    "        sb_table[sexBlood] = [sb_table[sexBlood][0]+rec[7],sb_table[sexBlood][1]+1]\n",
    "    else:\n",
    "        sb_table[sexBlood]=[rec[7],1]\n",
    "print(sb_table)"
   ]
  },
  {
   "cell_type": "code",
   "execution_count": 168,
   "metadata": {},
   "outputs": [
    {
     "name": "stdout",
     "output_type": "stream",
     "text": [
      "('여자', 'A') 52.25\n",
      "('여자', 'O') 50.13333333333333\n",
      "('남자', 'A') 58.75\n",
      "('여자', 'AB') 53.0\n",
      "('남자', 'B') 68.95\n",
      "('남자', 'AB') 80.75\n",
      "('여자', 'B') 45.2\n",
      "('남자', 'O') 65.1\n"
     ]
    }
   ],
   "source": [
    "for key, value in sb_table.items():\n",
    "    print(key,value[0]/value[1])"
   ]
  },
  {
   "cell_type": "markdown",
   "metadata": {},
   "source": [
    "---\n",
    "\n",
    "# Numpy\n",
    "\n",
    "## 기본\n",
    "ndarray : 1가지 type의 값들로 구성, axis = 차원\n",
    "\n",
    "### 속성\n",
    "\n",
    "- ndarray.ndim : 차원수\n",
    "- ndarray.shape : 데이터 모양\n",
    "- ndarray.size : 전체 값 개수\n",
    "- ndarray.dtype : 값의 type\n",
    "- ndarray.itemsize : 각 값의 크기 (byte)\n"
   ]
  },
  {
   "cell_type": "code",
   "execution_count": 169,
   "metadata": {},
   "outputs": [
    {
     "data": {
      "text/plain": [
       "array([[ 0,  1,  2,  3,  4],\n",
       "       [ 5,  6,  7,  8,  9],\n",
       "       [10, 11, 12, 13, 14]])"
      ]
     },
     "execution_count": 169,
     "metadata": {},
     "output_type": "execute_result"
    }
   ],
   "source": [
    "import numpy as np\n",
    "\n",
    "ar1= np.arange(15).reshape (3,5)\n",
    "\n",
    "ar1"
   ]
  },
  {
   "cell_type": "code",
   "execution_count": 107,
   "metadata": {},
   "outputs": [
    {
     "data": {
      "text/plain": [
       "(3, 5)"
      ]
     },
     "execution_count": 107,
     "metadata": {},
     "output_type": "execute_result"
    }
   ],
   "source": [
    "ar1.shape"
   ]
  },
  {
   "cell_type": "code",
   "execution_count": 108,
   "metadata": {},
   "outputs": [
    {
     "data": {
      "text/plain": [
       "2"
      ]
     },
     "execution_count": 108,
     "metadata": {},
     "output_type": "execute_result"
    }
   ],
   "source": [
    "ar1.ndim"
   ]
  },
  {
   "cell_type": "code",
   "execution_count": 109,
   "metadata": {},
   "outputs": [
    {
     "data": {
      "text/plain": [
       "15"
      ]
     },
     "execution_count": 109,
     "metadata": {},
     "output_type": "execute_result"
    }
   ],
   "source": [
    "ar1.size"
   ]
  },
  {
   "cell_type": "markdown",
   "metadata": {},
   "source": [
    "### 생성\n",
    "\n",
    "- np.array ( 파이썬 리스트 ) \n",
    "- np.zeros (shape )  or np.ones , np.empty\n",
    "- np.arrange (size) or np.arange (시작, 끝, 간격) "
   ]
  },
  {
   "cell_type": "code",
   "execution_count": 110,
   "metadata": {},
   "outputs": [
    {
     "data": {
      "text/plain": [
       "array([1, 2, 3, 4, 5])"
      ]
     },
     "execution_count": 110,
     "metadata": {},
     "output_type": "execute_result"
    }
   ],
   "source": [
    "np.array ( [1,2,3,4,5])"
   ]
  },
  {
   "cell_type": "code",
   "execution_count": 111,
   "metadata": {},
   "outputs": [
    {
     "data": {
      "text/plain": [
       "array([[0., 0., 0., 0.],\n",
       "       [0., 0., 0., 0.],\n",
       "       [0., 0., 0., 0.]])"
      ]
     },
     "execution_count": 111,
     "metadata": {},
     "output_type": "execute_result"
    }
   ],
   "source": [
    "np.zeros( (3,4) )"
   ]
  },
  {
   "cell_type": "code",
   "execution_count": 112,
   "metadata": {},
   "outputs": [
    {
     "data": {
      "text/plain": [
       "array([ 0,  1,  2,  3,  4,  5,  6,  7,  8,  9, 10, 11, 12, 13, 14])"
      ]
     },
     "execution_count": 112,
     "metadata": {},
     "output_type": "execute_result"
    }
   ],
   "source": [
    "np.arange(15)"
   ]
  },
  {
   "cell_type": "code",
   "execution_count": 113,
   "metadata": {},
   "outputs": [
    {
     "data": {
      "text/plain": [
       "array([ 5,  7,  9, 11, 13, 15, 17, 19])"
      ]
     },
     "execution_count": 113,
     "metadata": {},
     "output_type": "execute_result"
    }
   ],
   "source": [
    "np.arange(5, 20, 2)"
   ]
  },
  {
   "cell_type": "markdown",
   "metadata": {},
   "source": [
    "## Operations\n",
    "\n",
    "### 기본\n",
    "- 사칙연산 : 벡터* 스칼라  => 각 element와 스칼라 연산\n",
    "- 각 element 에 적용되는 연산:  exp(), sqrt() .. \n",
    "- 벡터 * 벡터 => 일반 벡터연산이 아니고, 같은 위치의 element 끼리 연산\n",
    "- 벡터 곱은 @\n",
    "- += 도 동작함 "
   ]
  },
  {
   "cell_type": "code",
   "execution_count": 114,
   "metadata": {},
   "outputs": [
    {
     "data": {
      "text/plain": [
       "array([[1, 2],\n",
       "       [3, 4]])"
      ]
     },
     "execution_count": 114,
     "metadata": {},
     "output_type": "execute_result"
    }
   ],
   "source": [
    "A = np.array( [[1,2], [3,4]])\n",
    "B = np.array ( [[2,3], [4,5]])\n",
    "\n",
    "A"
   ]
  },
  {
   "cell_type": "code",
   "execution_count": 115,
   "metadata": {},
   "outputs": [
    {
     "data": {
      "text/plain": [
       "array([[ 4,  8],\n",
       "       [12, 16]])"
      ]
     },
     "execution_count": 115,
     "metadata": {},
     "output_type": "execute_result"
    }
   ],
   "source": [
    "A*4"
   ]
  },
  {
   "cell_type": "code",
   "execution_count": 116,
   "metadata": {},
   "outputs": [
    {
     "data": {
      "text/plain": [
       "array([[4, 5],\n",
       "       [6, 7]])"
      ]
     },
     "execution_count": 116,
     "metadata": {},
     "output_type": "execute_result"
    }
   ],
   "source": [
    "A+=3\n",
    "A"
   ]
  },
  {
   "cell_type": "code",
   "execution_count": 117,
   "metadata": {},
   "outputs": [
    {
     "data": {
      "text/plain": [
       "array([[ 6,  8],\n",
       "       [10, 12]])"
      ]
     },
     "execution_count": 117,
     "metadata": {},
     "output_type": "execute_result"
    }
   ],
   "source": [
    "A+B"
   ]
  },
  {
   "cell_type": "code",
   "execution_count": 118,
   "metadata": {},
   "outputs": [
    {
     "data": {
      "text/plain": [
       "array([[2.        , 2.23606798],\n",
       "       [2.44948974, 2.64575131]])"
      ]
     },
     "execution_count": 118,
     "metadata": {},
     "output_type": "execute_result"
    }
   ],
   "source": [
    "np.sqrt(A)"
   ]
  },
  {
   "cell_type": "code",
   "execution_count": 119,
   "metadata": {},
   "outputs": [
    {
     "data": {
      "text/plain": [
       "array([[ 8, 15],\n",
       "       [24, 35]])"
      ]
     },
     "execution_count": 119,
     "metadata": {},
     "output_type": "execute_result"
    }
   ],
   "source": [
    "A*B"
   ]
  },
  {
   "cell_type": "code",
   "execution_count": 120,
   "metadata": {},
   "outputs": [
    {
     "data": {
      "text/plain": [
       "array([[28, 37],\n",
       "       [40, 53]])"
      ]
     },
     "execution_count": 120,
     "metadata": {},
     "output_type": "execute_result"
    }
   ],
   "source": [
    "A@B   # 내적 연산"
   ]
  },
  {
   "cell_type": "markdown",
   "metadata": {},
   "source": [
    "### random \n",
    "- randn(모양) :  정규분포\n",
    "- randint (최소값, 최대값, size=) : 정수 "
   ]
  },
  {
   "cell_type": "code",
   "execution_count": 121,
   "metadata": {},
   "outputs": [
    {
     "data": {
      "text/plain": [
       "array([[-0.67399866, -1.48200585],\n",
       "       [-1.3888421 ,  2.04131856],\n",
       "       [ 0.63959921, -0.50753116]])"
      ]
     },
     "execution_count": 121,
     "metadata": {},
     "output_type": "execute_result"
    }
   ],
   "source": [
    "np.random.randn(3,2)"
   ]
  },
  {
   "cell_type": "code",
   "execution_count": 122,
   "metadata": {},
   "outputs": [
    {
     "data": {
      "text/plain": [
       "array([[26, 81],\n",
       "       [58, 38],\n",
       "       [22, 61]])"
      ]
     },
     "execution_count": 122,
     "metadata": {},
     "output_type": "execute_result"
    }
   ],
   "source": [
    "np.random.randint(1, 100, size=6).reshape(3,2)"
   ]
  },
  {
   "cell_type": "markdown",
   "metadata": {},
   "source": [
    "### sum, max, min\n",
    "- 기본 : 전체 array에서 \n"
   ]
  },
  {
   "cell_type": "code",
   "execution_count": 123,
   "metadata": {},
   "outputs": [
    {
     "data": {
      "text/plain": [
       "22"
      ]
     },
     "execution_count": 123,
     "metadata": {},
     "output_type": "execute_result"
    }
   ],
   "source": [
    "A.sum()"
   ]
  },
  {
   "cell_type": "code",
   "execution_count": 124,
   "metadata": {},
   "outputs": [
    {
     "data": {
      "text/plain": [
       "4"
      ]
     },
     "execution_count": 124,
     "metadata": {},
     "output_type": "execute_result"
    }
   ],
   "source": [
    "A.min()"
   ]
  },
  {
   "cell_type": "markdown",
   "metadata": {},
   "source": [
    "### (중요) axis에 따른 연산\n",
    "\n",
    "- 주요 파라메터 : axis =차원 기준 \n",
    "- sum (axis=0 ) : 첫번째 차원으로 합\n",
    "- sum (axis=1 ) : 두번째 차원으로 합"
   ]
  },
  {
   "cell_type": "code",
   "execution_count": 125,
   "metadata": {},
   "outputs": [
    {
     "data": {
      "text/plain": [
       "array([[ 0,  1,  2,  3],\n",
       "       [ 4,  5,  6,  7],\n",
       "       [ 8,  9, 10, 11]])"
      ]
     },
     "execution_count": 125,
     "metadata": {},
     "output_type": "execute_result"
    }
   ],
   "source": [
    "B=np.arange(12).reshape (3,4)  # 첫번째 차원 =3개 element , 두번째 차원 =각기 element 는 4개 짜리 array\n",
    "B"
   ]
  },
  {
   "cell_type": "code",
   "execution_count": 126,
   "metadata": {},
   "outputs": [
    {
     "data": {
      "text/plain": [
       "array([12, 15, 18, 21])"
      ]
     },
     "execution_count": 126,
     "metadata": {},
     "output_type": "execute_result"
    }
   ],
   "source": [
    "B.sum (axis=0) # 3개의 element 끼리 더함"
   ]
  },
  {
   "cell_type": "code",
   "execution_count": 127,
   "metadata": {},
   "outputs": [
    {
     "data": {
      "text/plain": [
       "array([ 6, 22, 38])"
      ]
     },
     "execution_count": 127,
     "metadata": {},
     "output_type": "execute_result"
    }
   ],
   "source": [
    "B.sum (axis=1) # 2번째 차원의 4개의 element 끼리 평균"
   ]
  },
  {
   "cell_type": "code",
   "execution_count": 128,
   "metadata": {},
   "outputs": [
    {
     "data": {
      "text/plain": [
       "array([ 8,  9, 10, 11])"
      ]
     },
     "execution_count": 128,
     "metadata": {},
     "output_type": "execute_result"
    }
   ],
   "source": [
    "B.max( axis=0)"
   ]
  },
  {
   "cell_type": "markdown",
   "metadata": {},
   "source": [
    "## Indexing, slicing\n",
    "\n",
    "\n",
    "- 1차원 : element A[2],  범위 A[2:5]\n",
    "    - A[ (1,2,4)] :  multi index\n",
    "- 2차원 : element B[2,3] , 범위 B [1:3, : ] ,   : 는 전체를 의미"
   ]
  },
  {
   "cell_type": "code",
   "execution_count": 129,
   "metadata": {},
   "outputs": [
    {
     "name": "stdout",
     "output_type": "stream",
     "text": [
      "[ 5  6  7  8  9 10 11 12 13 14]\n",
      "7\n"
     ]
    }
   ],
   "source": [
    "A=np.arange (5, 15, 1)\n",
    "print (A)\n",
    "print (A[2])\n"
   ]
  },
  {
   "cell_type": "code",
   "execution_count": 130,
   "metadata": {},
   "outputs": [
    {
     "name": "stdout",
     "output_type": "stream",
     "text": [
      "[7 9]\n"
     ]
    }
   ],
   "source": [
    "print (A[(2,4),]) # 첫번째 axis에 대한 것을 명시 필요"
   ]
  },
  {
   "cell_type": "code",
   "execution_count": 131,
   "metadata": {},
   "outputs": [
    {
     "data": {
      "text/plain": [
       "array([6, 7])"
      ]
     },
     "execution_count": 131,
     "metadata": {},
     "output_type": "execute_result"
    }
   ],
   "source": [
    "A[1:3]"
   ]
  },
  {
   "cell_type": "code",
   "execution_count": 132,
   "metadata": {},
   "outputs": [
    {
     "data": {
      "text/plain": [
       "array([[ 0,  1,  2,  3,  4,  5],\n",
       "       [ 6,  7,  8,  9, 10, 11],\n",
       "       [12, 13, 14, 15, 16, 17],\n",
       "       [18, 19, 20, 21, 22, 23],\n",
       "       [24, 25, 26, 27, 28, 29]])"
      ]
     },
     "execution_count": 132,
     "metadata": {},
     "output_type": "execute_result"
    }
   ],
   "source": [
    "B=np.arange(30).reshape((5,6))\n",
    "B"
   ]
  },
  {
   "cell_type": "code",
   "execution_count": 133,
   "metadata": {},
   "outputs": [
    {
     "data": {
      "text/plain": [
       "20"
      ]
     },
     "execution_count": 133,
     "metadata": {},
     "output_type": "execute_result"
    }
   ],
   "source": [
    "B[3,2]"
   ]
  },
  {
   "cell_type": "code",
   "execution_count": 134,
   "metadata": {},
   "outputs": [
    {
     "data": {
      "text/plain": [
       "array([20, 21])"
      ]
     },
     "execution_count": 134,
     "metadata": {},
     "output_type": "execute_result"
    }
   ],
   "source": [
    "B[3, 2:4]"
   ]
  },
  {
   "cell_type": "code",
   "execution_count": 135,
   "metadata": {},
   "outputs": [
    {
     "data": {
      "text/plain": [
       "array([[[ 0,  1,  2],\n",
       "        [ 3,  4,  5],\n",
       "        [ 6,  7,  8]],\n",
       "\n",
       "       [[ 9, 10, 11],\n",
       "        [12, 13, 14],\n",
       "        [15, 16, 17]],\n",
       "\n",
       "       [[18, 19, 20],\n",
       "        [21, 22, 23],\n",
       "        [24, 25, 26]],\n",
       "\n",
       "       [[27, 28, 29],\n",
       "        [30, 31, 32],\n",
       "        [33, 34, 35]],\n",
       "\n",
       "       [[36, 37, 38],\n",
       "        [39, 40, 41],\n",
       "        [42, 43, 44]]])"
      ]
     },
     "execution_count": 135,
     "metadata": {},
     "output_type": "execute_result"
    }
   ],
   "source": [
    "C=np.arange(45).reshape((5,3,3))\n",
    "C"
   ]
  },
  {
   "cell_type": "code",
   "execution_count": 136,
   "metadata": {},
   "outputs": [
    {
     "data": {
      "text/plain": [
       "array([[[ 1],\n",
       "        [ 4],\n",
       "        [ 7]],\n",
       "\n",
       "       [[10],\n",
       "        [13],\n",
       "        [16]],\n",
       "\n",
       "       [[19],\n",
       "        [22],\n",
       "        [25]],\n",
       "\n",
       "       [[28],\n",
       "        [31],\n",
       "        [34]],\n",
       "\n",
       "       [[37],\n",
       "        [40],\n",
       "        [43]]])"
      ]
     },
     "execution_count": 136,
     "metadata": {},
     "output_type": "execute_result"
    }
   ],
   "source": [
    "C[:,:,1:2]"
   ]
  },
  {
   "cell_type": "markdown",
   "metadata": {},
   "source": [
    "- ...  : 중간 idx 생략  "
   ]
  },
  {
   "cell_type": "code",
   "execution_count": 137,
   "metadata": {},
   "outputs": [
    {
     "data": {
      "text/plain": [
       "array([[ 1,  4,  7],\n",
       "       [10, 13, 16],\n",
       "       [19, 22, 25],\n",
       "       [28, 31, 34],\n",
       "       [37, 40, 43]])"
      ]
     },
     "execution_count": 137,
     "metadata": {},
     "output_type": "execute_result"
    }
   ],
   "source": [
    "C[..., 1]    "
   ]
  },
  {
   "cell_type": "code",
   "execution_count": 138,
   "metadata": {},
   "outputs": [
    {
     "data": {
      "text/plain": [
       "array([[ 9, 10, 11],\n",
       "       [12, 13, 14],\n",
       "       [15, 16, 17]])"
      ]
     },
     "execution_count": 138,
     "metadata": {},
     "output_type": "execute_result"
    }
   ],
   "source": [
    "C[1, ...]"
   ]
  },
  {
   "cell_type": "code",
   "execution_count": 139,
   "metadata": {},
   "outputs": [
    {
     "data": {
      "text/plain": [
       "array([10, 13, 16])"
      ]
     },
     "execution_count": 139,
     "metadata": {},
     "output_type": "execute_result"
    }
   ],
   "source": [
    "C[1,...,1]"
   ]
  },
  {
   "cell_type": "markdown",
   "metadata": {},
   "source": [
    "## 과제 2 : np.arange(30).reshape((5,6)) 에서 0,2,4.. column (axis=1) 만 뽑아서 새로운 array를 만드시오\n"
   ]
  },
  {
   "cell_type": "code",
   "execution_count": 148,
   "metadata": {},
   "outputs": [
    {
     "name": "stdout",
     "output_type": "stream",
     "text": [
      "[[ 0  1  2  3  4  5]\n",
      " [ 6  7  8  9 10 11]\n",
      " [12 13 14 15 16 17]\n",
      " [18 19 20 21 22 23]\n",
      " [24 25 26 27 28 29]]\n"
     ]
    }
   ],
   "source": [
    "k=np.arange(30).reshape((5,6))\n",
    "print(k)"
   ]
  },
  {
   "cell_type": "code",
   "execution_count": 157,
   "metadata": {},
   "outputs": [
    {
     "data": {
      "text/plain": [
       "array([6])"
      ]
     },
     "execution_count": 157,
     "metadata": {},
     "output_type": "execute_result"
    }
   ],
   "source": []
  },
  {
   "cell_type": "code",
   "execution_count": null,
   "metadata": {},
   "outputs": [],
   "source": []
  }
 ],
 "metadata": {
  "kernelspec": {
   "display_name": "Python 3 (ipykernel)",
   "language": "python",
   "name": "python3"
  },
  "language_info": {
   "codemirror_mode": {
    "name": "ipython",
    "version": 3
   },
   "file_extension": ".py",
   "mimetype": "text/x-python",
   "name": "python",
   "nbconvert_exporter": "python",
   "pygments_lexer": "ipython3",
   "version": "3.11.7"
  }
 },
 "nbformat": 4,
 "nbformat_minor": 4
}
